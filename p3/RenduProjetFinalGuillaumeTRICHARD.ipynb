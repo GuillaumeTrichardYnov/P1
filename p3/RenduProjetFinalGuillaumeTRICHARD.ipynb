{
 "cells": [
  {
   "cell_type": "markdown",
   "metadata": {},
   "source": [
    "# Rendu projet Final Guillaume TRICHARD\n",
    "## Détéction de la marque d'une voiture en fonction de son logo"
   ]
  },
  {
   "cell_type": "markdown",
   "metadata": {},
   "source": [
    "J'importe des images de logo de voiture en fonction d'une recherche google"
   ]
  },
  {
   "cell_type": "code",
   "execution_count": 2,
   "metadata": {
    "collapsed": true
   },
   "outputs": [],
   "source": [
    "from bs4 import BeautifulSoup \n",
    "import requests\n",
    "import urllib2\n",
    "import json\n",
    "from PIL import Image\n",
    "import numpy as np\n",
    "import cv2\n",
    "import matplotlib.pyplot as plt\n",
    "import numpy\n",
    "import os, sys\n"
   ]
  },
  {
   "cell_type": "markdown",
   "metadata": {},
   "source": [
    "### Importation des images depuis GOOGLE "
   ]
  },
  {
   "cell_type": "markdown",
   "metadata": {},
   "source": [
    "Pour me créer un dataset d'une dixaine d'images de logo de différentes marques de voiture je sniff les premières images de google image grâce a une image et un texte. \n",
    "Afin d'avoir des résultats pertinents j'ai choisi pour chaque marque de voiture une image de son logo qui ressemble beaucoup a ce que l'on pourrait obtenir en prenant le logo d'une voiture dans la rue. \n",
    "Donc pour chacune des marques de voiture je créé un nouveau répertoire du nom de la marque et je récupère une dixaine d'images. \n",
    "\n",
    "Merci à Kevin pour son aide sur le sniffer "
   ]
  },
  {
   "cell_type": "code",
   "execution_count": 2,
   "metadata": {
    "collapsed": false,
    "scrolled": true
   },
   "outputs": [
    {
     "name": "stdout",
     "output_type": "stream",
     "text": [
      "https://www.google.fr/search?safe=off&sa=G&hl=fr&tbs=simg:CAESlQEJqdkHiSk8z-8aiQELEKjU2AQaAggLDAsQsIynCBpiCmAIAxIo7xbwFoEMxQynDOoWwQuoF7YXxAzdPOE8uT-2PbUrvD3jKaUh2jy3PRowewiOWS2jjNkUm3M0SbXXa6bK4i5RwzZrpJItrkr-4FEukdMxqdLPYxIwy8Rp1-_1KIAQMCxCOrv4IGgoKCAgBEgRy2_19cDA&q=porsche&tbm=isch&ved=0ahUKEwi71dvR57DSAhXSSxoKHbBFARgQsw4ILA&biw=1745&bih=841\n",
      "could not load : http://i1.wp.com/www.inautonews.com/wp-content/uploads/2015/02/porsche-badge.jpg?resize=350%2C200\n",
      "HTTP Error 400: Bad Request\n",
      "could not load : http://i0.wp.com/www.inautonews.com/wp-content/uploads/2012/08/porsche-panamera-badge.jpg?resize=350%2C200\n",
      "HTTP Error 400: Bad Request\n",
      "https://www.google.fr/search?safe=off&sa=G&hl=fr&tbs=simg:CAESvQEJjLMwSgRL4sgasQELEKjU2AQaBAgDCAoMCxCwjKcIGmIKYAgDEiiiBtACuAe7B6wdqx25B6wSpQehBuc2qTajNLo_1oDSUPrs_1pTS-KLooGjCM15PcD_1QG-HzQ5tGGzymP7cWlvBWLhWGaXTcmsUe5Ug3awMbz_1H5qzMNMC4LHgQUgBAwLEI6u_1ggaCgoICAESBAPE2ekMCxCd7cEJGh0KGwoIZ3JhcGhpY3PapYj2AwsKCS9tLzAyMXNkZww-djc3qn1PWaxS0tkR643fGPunuNi6KTP4FGIAQMCxCOrv4IGgoKCAgBEgRqp3GhDAsQne3BCRpQChkKBmVtYmxlbdqliPYDCwoJL20vMDF3azljChgKBWNyZXN02qWI9gMLCgkvbS8wM2p3c18KGQoHcG9yc2NoZdqliPYDCgoIL20vMDYyczQM&q=renault&tbm=isch&ved=0ahUKEwi71dvR57DSAhXSSxoKHbBFARgQsw4ILA&biw=1745&bih=841\n",
      "could not load : http://garagedesblogs.com/wp-content/uploads/2015/12/Renault.svg\n",
      "HTTP Error 403: Forbidden\n",
      "https://www.google.fr/search?safe=off&sa=G&hl=fr&tbs=simg:CAESlwEJr4jHQIQFhtwaiwELEKjU2AQaBAgACAMMCxCwjKcIGmIKYAgDEijoAdwBoATHDqEE_1xeEGNsB-xftBbY25Ca6Nqw2qjbxMqEosja1Nrc2GjAhFNOQi9B2oRzQ-MlXzE6DODYrzTvp7uMO05hpduI-MW4De_1NSa0jBF_1JzdC_1orSEgBAwLEI6u_1ggaCgoICAESBN4S1BcM&q=citroen&tbm=isch&ved=0ahUKEwi71dvR57DSAhXSSxoKHbBFARgQsw4ILA&biw=1745&bih=841\n",
      "https://www.google.fr/search?safe=off&sa=G&hl=fr&tbs=simg:CAESlAEJdYxS5kBeUkgaiAELEKjU2AQaBAgBCAkMCxCwjKcIGl8KXQgDEiVIxwEbiwcaqB3KAckBuwLAAYo0-zOlKawh7D2GNI01iieCNPkzGjAaKGgMqtAPIoog3yer_1y2X4zBceGOUQee742q7pLY40Ql5m7tQpsvUWvGA7QMvMdkgBAwLEI6u_1ggaCgoICAESBAotWoIM&q=peugeot&tbm=isch&ved=0ahUKEwi71dvR57DSAhXSSxoKHbBFARgQsw4ILA&biw=1745&bih=841\n",
      "could not load : http://www.scootersjonway.com/3731-thickbox/cdi-racing-peugeot-2t.jpg\n",
      "HTTP Error 404: Not Found\n",
      "https://www.google.fr/search?safe=off&sa=G&hl=fr&tbs=simg:CAES1AEJnPTh8X_1Ah8IayAELEKjU2AQaAggIDAsQsIynCBpiCmAIAxIo9wO2Ap0K4AG1AswShAqDCrcCzRLGP649rz2aNMc_1sj25P-A8mTS8PRowiAJrxfJXLCsfV-SXF2YDFM0g9b1rHzCP_1MtltqRjRC11tJ1suj8-585UNLnqZXCMIAQMCxCOrv4IGgoKCAgBEgSBrBoGDAsQne3BCRo2ChsKCXRyYWRlbWFya9qliPYDCgoIL20vMDdkMGYKFwoEb3ZhbNqliPYDCwoJL20vMDZnNThiDA&q=bugatti&tbm=isch&ved=0ahUKEwi71dvR57DSAhXSSxoKHbBFARgQsw4ILA&biw=1745&bih=841\n",
      "could not load : http://images.clipartlogo.com/files/images/51/519962/bugatti_t.png\n",
      "cannot write mode P as JPEG\n",
      "could not load : http://www.autonachrichten.de/images/cars/logos/200/bugatti-logo.png\n",
      "cannot write mode P as JPEG\n",
      "could not load : http://car-logos.com/images/lsb/bugatti-logo-hd-wallpapers.gif\n",
      "cannot write mode P as JPEG\n",
      "https://www.google.fr/search?safe=off&sa=G&hl=fr&tbs=simg:CAESkwEJU3JlxMq4c7sahwELEKjU2AQaAggLDAsQsIynCBpgCl4IAxImgglGhwmDCbQKyBTGFP0DYfsIsDq5P908iCrCPbk94ynHP4on5SkaMHE1CcfTQOxzsjA9CTYHG3zzzbxD5kaUYGCQTVQCKsB9JcJ5ydc4rV1cuu8TOtByCyAEDAsQjq7-CBoKCggIARIEAl7G6ww&q=ferrari&tbm=isch&ved=0ahUKEwi71dvR57DSAhXSSxoKHbBFARgQsw4ILA&biw=1745&bih=841\n",
      "https://www.google.fr/search?safe=off&sa=G&hl=fr&tbs=simg:CAEShwEJTm5RND9xouQafAsQsIynCBpgCl4IAxImrwSiDK8MbrMEsgw9rATFA6cMryv4Iqk3hCCIM_1IhnzmeObUrsCsaMG41mIfTYJMkQ5La9GgrVyOMU7cQgAD_1HfpOJkyfoUAYnuAftFVI2LbPeZYdOtS3mSAEDAsQjq7-CBoKCggIARIEsjyttQw&q=alhpaRomeo&tbm=isch&ved=0ahUKEwi71dvR57DSAhXSSxoKHbBFARgQsw4ILA&biw=1745&bih=841\n",
      "https://www.google.fr/search?safe=off&sa=G&hl=fr&tbs=simg:CAESlwEJbyjGH6Cuxz0aiwELEKjU2AQaBAgACAEMCxCwjKcIGmIKYAgDEiiwDK8MwwO1DJYXjAyyDJELvAzXBIA3sCizM5Yg6SaBN-M2yzO9M_1ogGjCZFJVa2xR-OIrlZ5E5TREwWAe7FTEFh7O5akfpG3JovZSClwZ4soP1i3kkseCaZBggBAwLEI6u_1ggaCgoICAESBIevlWsM&q=audi&tbm=isch&ved=0ahUKEwi71dvR57DSAhXSSxoKHbBFARgQsw4ILA&biw=1745&bih=841\n",
      "https://www.google.fr/search?safe=off&sa=G&hl=fr&tbs=simg:CAESkwEJ0oJ6IcYLMhcahwELEKjU2AQaAggIDAsQsIynCBpgCl4IAxImzwGyAs4B4AEptgL_1CLQC_1QgovTPGP7s_1rj2aNOE8zzLHP4Q04DwaMHQjh2Dq1yw_1u6X7tVllcqkRBHssbwcgkIU02ZBrDB6HUiQCl9c651BSwovxCusxmCAEDAsQjq7-CBoKCggIARIEieoA5ww&q=mercedes&tbm=isch&ved=0ahUKEwi71dvR57DSAhXSSxoKHbBFARgQsw4ILA&biw=1745&bih=841\n",
      "could not load : http://i0.wp.com/www.inautonews.com/wp-content/uploads/2013/10/mercedes-benz-sls-amg.jpg?resize=350%2C200\n",
      "HTTP Error 400: Bad Request\n",
      "could not load : http://www.inautonews.com/wp-content/uploads/2014/03/mercedes-benz-a45-amg-posaidon-tuning-3-1024x682.jpg\n",
      "<urlopen error [Errno 10060] Une tentative de connexion a �chou� car le parti connect� n�a pas r�pondu convenablement au-del� d�une certaine dur�e ou une connexion �tablie a �chou� car l�h�te de connexion n�a pas r�pondu>\n"
     ]
    }
   ],
   "source": [
    "#récupération des images de logo de différentes marques de voitures (merci kevin de l'aide apporté)\n",
    "class Type:\n",
    "    count = 0\n",
    "    def __init__(self,name,option,img):\n",
    "        self.query = name\n",
    "        self.img = img\n",
    "        self.option = option\n",
    "        self.id = Type.count\n",
    "        Type.count = Type.count +1\n",
    "\n",
    "def get_soup(url,header):\n",
    "    return BeautifulSoup(urllib2.urlopen(urllib2.Request(url,headers=header)),'html.parser')\n",
    "\n",
    "\n",
    "types = []\n",
    "\n",
    "types.append(Type(\"porsche\", \"\", \"CAESlQEJqdkHiSk8z-8aiQELEKjU2AQaAggLDAsQsIynCBpiCmAIAxIo7xbwFoEMxQynDOoWwQuoF7YXxAzdPOE8uT-2PbUrvD3jKaUh2jy3PRowewiOWS2jjNkUm3M0SbXXa6bK4i5RwzZrpJItrkr-4FEukdMxqdLPYxIwy8Rp1-_1KIAQMCxCOrv4IGgoKCAgBEgRy2_19cDA\"))\n",
    "types.append(Type(\"renault\", \"\", \"CAESvQEJjLMwSgRL4sgasQELEKjU2AQaBAgDCAoMCxCwjKcIGmIKYAgDEiiiBtACuAe7B6wdqx25B6wSpQehBuc2qTajNLo_1oDSUPrs_1pTS-KLooGjCM15PcD_1QG-HzQ5tGGzymP7cWlvBWLhWGaXTcmsUe5Ug3awMbz_1H5qzMNMC4LHgQUgBAwLEI6u_1ggaCgoICAESBAPE2ekMCxCd7cEJGh0KGwoIZ3JhcGhpY3PapYj2AwsKCS9tLzAyMXNkZww-djc3qn1PWaxS0tkR643fGPunuNi6KTP4FGIAQMCxCOrv4IGgoKCAgBEgRqp3GhDAsQne3BCRpQChkKBmVtYmxlbdqliPYDCwoJL20vMDF3azljChgKBWNyZXN02qWI9gMLCgkvbS8wM2p3c18KGQoHcG9yc2NoZdqliPYDCgoIL20vMDYyczQM\"))\n",
    "types.append(Type(\"citroen\", \"\", \"CAESlwEJr4jHQIQFhtwaiwELEKjU2AQaBAgACAMMCxCwjKcIGmIKYAgDEijoAdwBoATHDqEE_1xeEGNsB-xftBbY25Ca6Nqw2qjbxMqEosja1Nrc2GjAhFNOQi9B2oRzQ-MlXzE6DODYrzTvp7uMO05hpduI-MW4De_1NSa0jBF_1JzdC_1orSEgBAwLEI6u_1ggaCgoICAESBN4S1BcM\"))\n",
    "types.append(Type(\"peugeot\", \"\", \"CAESlAEJdYxS5kBeUkgaiAELEKjU2AQaBAgBCAkMCxCwjKcIGl8KXQgDEiVIxwEbiwcaqB3KAckBuwLAAYo0-zOlKawh7D2GNI01iieCNPkzGjAaKGgMqtAPIoog3yer_1y2X4zBceGOUQee742q7pLY40Ql5m7tQpsvUWvGA7QMvMdkgBAwLEI6u_1ggaCgoICAESBAotWoIM\"))\n",
    "types.append(Type(\"bugatti\", \"\", \"CAES1AEJnPTh8X_1Ah8IayAELEKjU2AQaAggIDAsQsIynCBpiCmAIAxIo9wO2Ap0K4AG1AswShAqDCrcCzRLGP649rz2aNMc_1sj25P-A8mTS8PRowiAJrxfJXLCsfV-SXF2YDFM0g9b1rHzCP_1MtltqRjRC11tJ1suj8-585UNLnqZXCMIAQMCxCOrv4IGgoKCAgBEgSBrBoGDAsQne3BCRo2ChsKCXRyYWRlbWFya9qliPYDCgoIL20vMDdkMGYKFwoEb3ZhbNqliPYDCwoJL20vMDZnNThiDA\"))\n",
    "types.append(Type(\"ferrari\", \"\", \"CAESkwEJU3JlxMq4c7sahwELEKjU2AQaAggLDAsQsIynCBpgCl4IAxImgglGhwmDCbQKyBTGFP0DYfsIsDq5P908iCrCPbk94ynHP4on5SkaMHE1CcfTQOxzsjA9CTYHG3zzzbxD5kaUYGCQTVQCKsB9JcJ5ydc4rV1cuu8TOtByCyAEDAsQjq7-CBoKCggIARIEAl7G6ww\"))\n",
    "types.append(Type(\"alhpaRomeo\", \"\", \"CAEShwEJTm5RND9xouQafAsQsIynCBpgCl4IAxImrwSiDK8MbrMEsgw9rATFA6cMryv4Iqk3hCCIM_1IhnzmeObUrsCsaMG41mIfTYJMkQ5La9GgrVyOMU7cQgAD_1HfpOJkyfoUAYnuAftFVI2LbPeZYdOtS3mSAEDAsQjq7-CBoKCggIARIEsjyttQw\"))\n",
    "types.append(Type(\"audi\", \"\", \"CAESlwEJbyjGH6Cuxz0aiwELEKjU2AQaBAgACAEMCxCwjKcIGmIKYAgDEiiwDK8MwwO1DJYXjAyyDJELvAzXBIA3sCizM5Yg6SaBN-M2yzO9M_1ogGjCZFJVa2xR-OIrlZ5E5TREwWAe7FTEFh7O5akfpG3JovZSClwZ4soP1i3kkseCaZBggBAwLEI6u_1ggaCgoICAESBIevlWsM\"))\n",
    "types.append(Type(\"mercedes\", \"\", \"CAESkwEJ0oJ6IcYLMhcahwELEKjU2AQaAggIDAsQsIynCBpgCl4IAxImzwGyAs4B4AEptgL_1CLQC_1QgovTPGP7s_1rj2aNOE8zzLHP4Q04DwaMHQjh2Dq1yw_1u6X7tVllcqkRBHssbwcgkIU02ZBrDB6HUiQCl9c651BSwovxCusxmCAEDAsQjq7-CBoKCggIARIEieoA5ww\"))\n",
    "\n",
    "def download():\n",
    "    for currentType in range(0,len(types)):\n",
    "        \n",
    "        query= types[currentType].query.split()\n",
    "        query='+'.join(query)\n",
    "        url=\"https://www.google.fr/search?safe=off&sa=G&hl=fr&tbs=simg:\"+types[currentType].img+\"&q=\"+query+\"&tbm=isch&ved=0ahUKEwi71dvR57DSAhXSSxoKHbBFARgQsw4ILA&biw=1745&bih=841\"\n",
    "        print url\n",
    "        # Spécification du répertoire de déstination pour stocker les images \n",
    "        DIR=\"marques\"\n",
    "        DIR2 = types[currentType].query\n",
    "        header={'User-Agent':\"Mozilla/5.0 (Windows NT 6.1; WOW64) AppleWebKit/537.36 (KHTML, like Gecko) Chrome/43.0.2357.134 Safari/537.36\"}\n",
    "        soup = get_soup(url,header) \n",
    "\n",
    "\n",
    "        ActualImages=[]\n",
    "        for a in soup.find_all(\"div\",{\"class\":\"rg_meta\"}):\n",
    "            link , Type =json.loads(a.text)[\"ou\"]  ,json.loads(a.text)[\"ity\"]\n",
    "            ActualImages.append((link,Type))\n",
    "\n",
    "        #si le dossier qui contiens les logo d'une marque n'est pas créé alors je l'ajoute\n",
    "        if not os.path.exists(DIR):\n",
    "                   os.mkdir(DIR)\n",
    "        if not os.path.exists(DIR+\"/\"+DIR2):\n",
    "                   os.mkdir(DIR+\"/\"+DIR2)\n",
    " \n",
    "        cntr = 0\n",
    "        for i , (img , Type) in enumerate( ActualImages):\n",
    "            if i > 20:\n",
    "                break;\n",
    "            try:\n",
    "                req = urllib2.Request(img, headers={'User-Agent' : header})\n",
    "                raw_img = urllib2.urlopen(req).read()\n",
    "                if len(Type)==3:\n",
    "                    cntr = cntr + 1\n",
    "                    f = open(os.path.join(DIR ,DIR2+\"/\"+ str(cntr)+\".jpg\"), 'wb')\n",
    "                    f.write(raw_img)\n",
    "                    f.close()\n",
    "                    size = 128,128\n",
    "                   \n",
    "                    im = Image.open(DIR+\"/\"+DIR2+\"/\"+ str(cntr)+\".jpg\")\n",
    "                    #im.thumbnail(size, Image.ANTIALIAS)\n",
    "                    im.save(DIR+\"/\"+DIR2+\"/\"+ str(cntr)+\".jpg\", \"JPEG\")\n",
    "\n",
    "\n",
    "\n",
    "            except Exception as e:\n",
    "                print \"could not load : \"+img\n",
    "                print e\n",
    "download()"
   ]
  },
  {
   "cell_type": "markdown",
   "metadata": {},
   "source": [
    "Je fait une repasse a la main une fois que tout les logos sont téléchargé car il y a malgré tout des logos qui ne correspondent pas du tout a ce que je recherche. De plus il y a certaines images qui ne sont même pas lisibles"
   ]
  },
  {
   "cell_type": "markdown",
   "metadata": {},
   "source": [
    "### Réduction de la taille des images "
   ]
  },
  {
   "cell_type": "markdown",
   "metadata": {},
   "source": [
    "Une fois que toutes les images sont téléchargé je réduit la taille de chacune d'elles afin d'augmenter la vitesse de traitement. \n",
    "En effet quand mon dataset sera bien garnis le nombre de comparaison sera vraiment long si je ne réduit pas la taille. \n",
    "De plus cela me permet d'avoir une uniformité et donc d'augmenter la réussite de mon programme\n"
   ]
  },
  {
   "cell_type": "code",
   "execution_count": 3,
   "metadata": {
    "collapsed": false
   },
   "outputs": [
    {
     "name": "stdout",
     "output_type": "stream",
     "text": [
      "audi\n",
      "bugatti\n",
      "citroen\n",
      "ferrari\n",
      "mercedes\n",
      "peugeot\n",
      "porsche\n",
      "renault\n"
     ]
    }
   ],
   "source": [
    "#réduire la taille des images pour augmenter la vitesse d'analyse \n",
    "\n",
    "size = 128,128\n",
    "for filename in os.listdir(\"marques\"):#je fait une boucle sur tout les répertoires des marques \n",
    "     print(filename)\n",
    "     result = 0\n",
    "     distance = 0\n",
    "     for filename2 in os.listdir(os.path.join(\"marques\", filename)):\n",
    "         path = \"marques/\"+filename+\"/\"+filename2\n",
    "         im = Image.open(path)\n",
    "         im.thumbnail(size, Image.ANTIALIAS)\n",
    "         im.save(path, \"JPEG\")"
   ]
  },
  {
   "cell_type": "markdown",
   "metadata": {},
   "source": [
    "### Duplication des images en noir et blanc "
   ]
  },
  {
   "cell_type": "markdown",
   "metadata": {},
   "source": [
    "Une fois que toutes mes images sont de même taille je refait un traitement qui consiste a dupliquer chaqune d'elle en noir et blanc afin de faire abstraction des couleurs qui peuvent parfois être parasite (couleur de carrosserie, éclairage non naturel...)\n",
    "Cela me permet aussi d'enrichir mon dataset"
   ]
  },
  {
   "cell_type": "code",
   "execution_count": 4,
   "metadata": {
    "collapsed": false
   },
   "outputs": [
    {
     "name": "stdout",
     "output_type": "stream",
     "text": [
      "audi\n",
      "bugatti\n",
      "citroen\n",
      "ferrari\n",
      "mercedes\n",
      "peugeot\n",
      "porsche\n",
      "renault\n"
     ]
    }
   ],
   "source": [
    "#convert image en noir et blanc\n",
    "for filename in os.listdir(\"marques\"):\n",
    "    \n",
    "    print(filename)\n",
    "    result = 0\n",
    "    distance = 0\n",
    "    for filename2 in os.listdir(os.path.join(\"marques\", filename)): \n",
    "        path = \"marques/\"+filename+\"/\"+filename2\n",
    "        image_file = Image.open(path) # open colour image\n",
    "        image_file = image_file.convert('1') # convert image to black and white\n",
    "        path2 = \"marques/\"+filename+\"/n\"+filename2\n",
    "        image_file.save(path2)\n"
   ]
  },
  {
   "cell_type": "markdown",
   "metadata": {},
   "source": [
    "### Création des differentes fonctions de comparaison d'images "
   ]
  },
  {
   "cell_type": "markdown",
   "metadata": {},
   "source": [
    "J'utilise la librairie OpenCV pour comparer mes images. \n",
    "J'utilise 3 algorythmes de OpenCV a savoir ORB, sift et surf. \n",
    "Pour me faciliter le travail j'ai créer trois fonctions qui prennent en paramètre 2 images et qui me retourne un numéro qui fait office de score de ressemblance entre les deux images.\n",
    "A mon sens utiliser 3 algorythmes différent augmente les chances de réussite de détéction de la bonne marque mais en revanche cela ralenti l'analyse surtout sift."
   ]
  },
  {
   "cell_type": "code",
   "execution_count": 5,
   "metadata": {
    "collapsed": false
   },
   "outputs": [],
   "source": [
    "img1 = cv2.imread('1.png',0)          # queryImage\n",
    "img2 = cv2.imread('2.png',0) # trainImage\n",
    "img3 = cv2.imread('3.png',0)\n",
    "imgcitroen = cv2.imread('citroen.jpg',0)\n",
    "# Initiate ORB detector\n",
    "orb = cv2.ORB_create()\n",
    "# find the keypoints and descriptors with ORB\n",
    "kp1, des1 = orb.detectAndCompute(img1,None)\n",
    "kp2, des2 = orb.detectAndCompute(img2,None)\n",
    "kpc, desc = orb.detectAndCompute(imgcitroen,None)\n",
    "\n",
    "\n",
    "# create ORB object\n",
    "bf = cv2.BFMatcher(cv2.NORM_HAMMING, crossCheck=True)\n",
    "\n",
    "sift = cv2.xfeatures2d.SIFT_create()\n",
    "def CompareWithBf(image1, image2):\n",
    "    kp1, des1 = orb.detectAndCompute(image1,None)\n",
    "    kp2, des2 = orb.detectAndCompute(image2,None)\n",
    "    matches = bf.match(des1,des2)\n",
    "    matches = sorted(matches, key = lambda x:x.distance)\n",
    "    score = 0\n",
    "    for n in matches:\n",
    "        if n.distance < 40:\n",
    "            score += n.distance\n",
    "        else:\n",
    "            break\n",
    "    return score\n",
    "\n",
    "\n",
    "\n",
    "\n",
    "def CompareWithSift(image1, image2):# fonction de comparaison de deux images avec l'algo sift\n",
    "    kp1, des11 = sift.detectAndCompute(image1,None)\n",
    "    kp2, des22 = sift.detectAndCompute(image2,None)\n",
    "    matches = bf.knnMatch(des11,des22, k=2)\n",
    "    good = []\n",
    "    score = 0\n",
    "    for m,n in matches:\n",
    "        if m.distance < 0.75*n.distance:\n",
    "            good.append([m])\n",
    "    score = score + len(good)\n",
    "    return score\n",
    "\n",
    "\n",
    "\n",
    "\n",
    "\n",
    "import numpy\n",
    "def CompareWithSurf(img1, img2, img1_features=None, img2_features=None):# fonction de comparaison de deux images avec l'algo surf\n",
    "    \"\"\"Given two images, returns the matches\"\"\"\n",
    "    \n",
    "    detector = cv2.xfeatures2d.SURF_create(3200)\n",
    "    \n",
    "    matcher = cv2.BFMatcher(cv2.NORM_L2)\n",
    "\n",
    "    if img1_features is None:\n",
    "        kp1, desc1 = detector.detectAndCompute(img1, None)\n",
    "    else:\n",
    "        kp1, desc1 = img1_features\n",
    "\n",
    "    if img2_features is None:\n",
    "        kp2, desc2 = detector.detectAndCompute(img2, None)\n",
    "    else:\n",
    "        kp2, desc2 = img2_features\n",
    "\n",
    "    raw_matches = matcher.knnMatch(desc1, trainDescriptors=desc2, k=2)\n",
    "    kp_pairs = filter_matches(kp1, kp2, raw_matches)\n",
    "    return len(kp_pairs)\n",
    "\n",
    "\n",
    "def filter_matches(kp1, kp2, matches, ratio=0.75):\n",
    "    #je filtre les matches pour garder que les plus pertinants \n",
    "    mkp1, mkp2 = [], []\n",
    "    for m in matches:\n",
    "        if len(m) == 2 and m[0].distance < m[1].distance * ratio:\n",
    "            m = m[0]\n",
    "            mkp1.append(kp1[m.queryIdx])\n",
    "            mkp2.append(kp2[m.trainIdx])\n",
    "    kp_pairs = zip(mkp1, mkp2)\n",
    "    return kp_pairs\n"
   ]
  },
  {
   "cell_type": "markdown",
   "metadata": {},
   "source": [
    "### Test de detection d'un logo"
   ]
  },
  {
   "cell_type": "markdown",
   "metadata": {},
   "source": [
    "Dans la section ci-dessous je compare tout les dataset des différentes marques avec une image spécifique.\n",
    "Je compare l'image avec tout mon dataset à travers mes trois fonctions afin de multiplier les sources de comparaison et présiser au mieux le score de chacune des marques."
   ]
  },
  {
   "cell_type": "code",
   "execution_count": 8,
   "metadata": {
    "collapsed": false
   },
   "outputs": [
    {
     "name": "stdout",
     "output_type": "stream",
     "text": [
      "Compare with ORB\n",
      "audi\n",
      "0.371935715211\n",
      "bugatti\n",
      "0.0\n",
      "citroen\n",
      "9.16771276412\n",
      "ferrari\n",
      "44.3924662715\n",
      "mercedes\n",
      "13.1596975804\n",
      "peugeot\n",
      "7.95299082287\n",
      "porsche\n",
      "0.0\n",
      "renault\n",
      "24.9551968459\n",
      "Compare with sift\n",
      "audi\n",
      "12\n",
      "bugatti\n",
      "12\n",
      "citroen\n",
      "8\n",
      "ferrari\n",
      "47\n",
      "mercedes\n",
      "6\n",
      "peugeot\n",
      "3\n",
      "porsche\n",
      "3\n",
      "renault\n",
      "6\n",
      "Compare with surf\n",
      "audi\n",
      "14\n",
      "bugatti\n",
      "4\n",
      "citroen\n",
      "9\n",
      "ferrari\n",
      "32\n",
      "mercedes\n",
      "17\n",
      "peugeot\n",
      "4\n",
      "porsche\n",
      "7\n",
      "renault\n",
      "9\n",
      "[26.371935715210945, 16.0, 26.167712764118498, 123.39246627149046, 36.159697580362405, 14.952990822872795, 10.0, 39.9551968459449]\n"
     ]
    }
   ],
   "source": [
    "img1 = cv2.imread('1.png',0)          # queryImage\n",
    "img2 = cv2.imread('2.png',0) # trainImage\n",
    "img3 = cv2.imread('ferrari.jpg',0)\n",
    "imgcitroen = cv2.imread('citroen.jpg',0)\n",
    "# Initiate ORB detector\n",
    "orb = cv2.ORB_create()\n",
    "# find the keypoints and descriptors with ORB\n",
    "kp1, des1 = orb.detectAndCompute(img1,None)\n",
    "kp2, des2 = orb.detectAndCompute(img2,None)\n",
    "kpc, desc = orb.detectAndCompute(imgcitroen,None)\n",
    "\n",
    "bf = cv2.BFMatcher(cv2.NORM_HAMMING, crossCheck=True)\n",
    "sift = cv2.xfeatures2d.SIFT_create()\n",
    "\n",
    "# create ORB object\n",
    "finalResult = []\n",
    "\n",
    "print \"Compare with ORB\"\n",
    "scoreTotal = 0\n",
    "scoreArray = []\n",
    "for filename in os.listdir(\"marques\"):\n",
    "    result = 0\n",
    "    distance = 0\n",
    "    for filename2 in os.listdir(os.path.join(\"marques\", filename)):\n",
    "        path = \"marques/\"+filename+\"/\"+filename2\n",
    "        image = cv2.imread(path,0)\n",
    "        \n",
    "        result += CompareWithBf(image, img3)\n",
    "\n",
    "    scoreTotal = scoreTotal + result*100 / len(os.walk(\"marques/\"+filename+\"/\").next()[2])\n",
    "    scoreArray.append(result*100 / len(os.walk(\"marques/\"+filename+\"/\").next()[2]))\n",
    "loop = 0\n",
    "for filename in os.listdir(\"marques\"):\n",
    "    print(filename)\n",
    "    print scoreArray[loop]*100/scoreTotal\n",
    "    finalResult.append(scoreArray[loop]*100/scoreTotal)\n",
    "    loop = loop + 1\n",
    "\n",
    "\n",
    "print \"Compare with sift\"\n",
    "scoreTotal = 0\n",
    "scoreArray = []\n",
    "bf = cv2.BFMatcher()\n",
    "for filename in os.listdir(\"marques\"):\n",
    "    result = 0\n",
    "    distance = 0\n",
    "    for filename2 in os.listdir(os.path.join(\"marques\", filename)):\n",
    "        path = \"marques/\"+filename+\"/\"+filename2\n",
    "        image = cv2.imread(path,0)\n",
    "        \n",
    "        result += CompareWithSift(image, img3)\n",
    "\n",
    "    scoreTotal = scoreTotal + result*100 / len(os.walk(\"marques/\"+filename+\"/\").next()[2])\n",
    "    scoreArray.append(result*100 / len(os.walk(\"marques/\"+filename+\"/\").next()[2]))\n",
    "loop = 0\n",
    "for filename in os.listdir(\"marques\"):\n",
    "    print(filename)\n",
    "    finalResult[loop] = finalResult[loop] + scoreArray[loop]*100/scoreTotal\n",
    "    print scoreArray[loop]*100/scoreTotal\n",
    "    loop = loop + 1\n",
    "    \n",
    "    \n",
    "    \n",
    "    \n",
    "    \n",
    "print \"Compare with surf\"\n",
    "scoreTotal = 0\n",
    "scoreArray = []\n",
    "bf = cv2.BFMatcher()\n",
    "for filename in os.listdir(\"marques\"):\n",
    "    result = 0\n",
    "    distance = 0\n",
    "    for filename2 in os.listdir(os.path.join(\"marques\", filename)):\n",
    "        path = \"marques/\"+filename+\"/\"+filename2\n",
    "        image = cv2.imread(path,0)\n",
    "        \n",
    "        result += CompareWithSurf(image, img3)\n",
    "\n",
    "    scoreTotal = scoreTotal + result*100 / len(os.walk(\"marques/\"+filename+\"/\").next()[2])\n",
    "    scoreArray.append(result*100 / len(os.walk(\"marques/\"+filename+\"/\").next()[2]))\n",
    "loop = 0\n",
    "for filename in os.listdir(\"marques\"):\n",
    "    print(filename)\n",
    "    finalResult[loop] += scoreArray[loop]*100/scoreTotal\n",
    "    print scoreArray[loop]*100/scoreTotal\n",
    "    loop = loop + 1\n",
    "    \n",
    "    \n",
    "    \n",
    "print(finalResult)\n",
    "    \n",
    "    \n"
   ]
  }
 ],
 "metadata": {
  "kernelspec": {
   "display_name": "Python 2",
   "language": "python",
   "name": "python2"
  },
  "language_info": {
   "codemirror_mode": {
    "name": "ipython",
    "version": 2
   },
   "file_extension": ".py",
   "mimetype": "text/x-python",
   "name": "python",
   "nbconvert_exporter": "python",
   "pygments_lexer": "ipython2",
   "version": "2.7.12"
  }
 },
 "nbformat": 4,
 "nbformat_minor": 2
}
